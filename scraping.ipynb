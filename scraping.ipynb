{
 "cells": [
  {
   "cell_type": "code",
   "execution_count": 1,
   "metadata": {},
   "outputs": [
    {
     "name": "stdout",
     "output_type": "stream",
     "text": [
      "Requirement already satisfied: requests in /Users/jjsm/.pyenv/versions/3.8.10/lib/python3.8/site-packages (2.28.1)\n",
      "Requirement already satisfied: beautifulsoup4 in /Users/jjsm/.pyenv/versions/3.8.10/lib/python3.8/site-packages (4.11.1)\n",
      "Requirement already satisfied: charset-normalizer<3,>=2 in /Users/jjsm/.pyenv/versions/3.8.10/lib/python3.8/site-packages (from requests) (2.1.1)\n",
      "Requirement already satisfied: idna<4,>=2.5 in /Users/jjsm/.pyenv/versions/3.8.10/lib/python3.8/site-packages (from requests) (3.4)\n",
      "Requirement already satisfied: urllib3<1.27,>=1.21.1 in /Users/jjsm/.pyenv/versions/3.8.10/lib/python3.8/site-packages (from requests) (1.26.13)\n",
      "Requirement already satisfied: certifi>=2017.4.17 in /Users/jjsm/.pyenv/versions/3.8.10/lib/python3.8/site-packages (from requests) (2022.12.7)\n",
      "Requirement already satisfied: soupsieve>1.2 in /Users/jjsm/.pyenv/versions/3.8.10/lib/python3.8/site-packages (from beautifulsoup4) (2.3.2.post1)\n",
      "\n",
      "\u001b[1m[\u001b[0m\u001b[34;49mnotice\u001b[0m\u001b[1;39;49m]\u001b[0m\u001b[39;49m A new release of pip is available: \u001b[0m\u001b[31;49m23.1.1\u001b[0m\u001b[39;49m -> \u001b[0m\u001b[32;49m23.2.1\u001b[0m\n",
      "\u001b[1m[\u001b[0m\u001b[34;49mnotice\u001b[0m\u001b[1;39;49m]\u001b[0m\u001b[39;49m To update, run: \u001b[0m\u001b[32;49mpip install --upgrade pip\u001b[0m\n"
     ]
    }
   ],
   "source": [
    "#!pip install requests beautifulsoup4"
   ]
  },
  {
   "cell_type": "code",
   "execution_count": 1,
   "metadata": {},
   "outputs": [],
   "source": [
    "import openai\n",
    "import os\n",
    "import re\n",
    "import requests\n",
    "from bs4 import BeautifulSoup\n"
   ]
  },
  {
   "cell_type": "markdown",
   "metadata": {},
   "source": [
    "# Get the individual page urls\n",
    "\n",
    "One url for each page that describes a particular kind of grammar."
   ]
  },
  {
   "cell_type": "code",
   "execution_count": 3,
   "metadata": {},
   "outputs": [],
   "source": [
    "def get_links(url):\n",
    "\n",
    "    # Make a request to the website\n",
    "    response = requests.get(url)\n",
    "\n",
    "    # If the request was successful (status code 200)\n",
    "    if response.status_code == 200:\n",
    "        # Parse the page content with BeautifulSoup\n",
    "        soup = BeautifulSoup(response.content, 'html.parser')\n",
    "        \n",
    "        # Extract all links\n",
    "        links = [a['href'] for a in soup.find_all('a', href=True)]\n",
    "\n",
    "    else:\n",
    "        print(\"Failed to retrieve the webpage.\")\n",
    "\n",
    "    return links\n"
   ]
  },
  {
   "cell_type": "code",
   "execution_count": 6,
   "metadata": {},
   "outputs": [],
   "source": [
    "a1_a2_links = get_links('https://learnenglish.britishcouncil.org/grammar/a1-a2-grammar')\n",
    "a1_a2_grammar_pages = list(set(link for link in a1_a2_links if re.match(r\"^/grammar/a1-a2-grammar/\", link)))"
   ]
  },
  {
   "cell_type": "code",
   "execution_count": 11,
   "metadata": {},
   "outputs": [],
   "source": [
    "b1_b2_links = get_links('https://learnenglish.britishcouncil.org/grammar/b1-b2-grammar')\n",
    "b1_b2_grammar_pages = list(set(link for link in b1_b2_links if re.match(r\"^/grammar/b1-b2-grammar/\", link)))"
   ]
  },
  {
   "cell_type": "code",
   "execution_count": 15,
   "metadata": {},
   "outputs": [],
   "source": [
    "'https://learnenglish.britishcouncil.org/grammar/c1-grammar'\n",
    "c1_links = get_links('https://learnenglish.britishcouncil.org/grammar/c1-grammar')\n",
    "c1_grammar_pages = list(set(link for link in c1_links if re.match(r\"^/grammar/c1-grammar/\", link)))"
   ]
  },
  {
   "cell_type": "markdown",
   "metadata": {},
   "source": [
    "# Scrape each link and extract the text"
   ]
  },
  {
   "cell_type": "code",
   "execution_count": 43,
   "metadata": {},
   "outputs": [],
   "source": [
    "def extract_text_from_element(element):\n",
    "    \"\"\"Recursively extract text from an element and its child elements.\"\"\"\n",
    "    if element.string:\n",
    "        return element.string\n",
    "    return ''.join([extract_text_from_element(child) for child in element.children])"
   ]
  },
  {
   "cell_type": "code",
   "execution_count": 44,
   "metadata": {},
   "outputs": [
    {
     "name": "stdout",
     "output_type": "stream",
     "text": [
      "Scraping https://learnenglish.britishcouncil.org//grammar/a1-a2-grammar/articles-the-or-no-article...\n",
      "Scraping https://learnenglish.britishcouncil.org//grammar/a1-a2-grammar/past-continuous-past-simple...\n",
      "Scraping https://learnenglish.britishcouncil.org//grammar/a1-a2-grammar/nouns-countable-uncountable...\n",
      "Scraping https://learnenglish.britishcouncil.org//grammar/a1-a2-grammar/prepositions-of-time-at-in-on...\n",
      "Scraping https://learnenglish.britishcouncil.org//grammar/a1-a2-grammar/verbs-followed-ing-or-infinitive...\n",
      "Scraping https://learnenglish.britishcouncil.org//grammar/a1-a2-grammar/using-there-there-are...\n",
      "Scraping https://learnenglish.britishcouncil.org//grammar/a1-a2-grammar/present-simple...\n",
      "Scraping https://learnenglish.britishcouncil.org//grammar/a1-a2-grammar/present-simple-be...\n",
      "Scraping https://learnenglish.britishcouncil.org//grammar/a1-a2-grammar/prepositions-place...\n",
      "Scraping https://learnenglish.britishcouncil.org//grammar/a1-a2-grammar/possessive-s...\n",
      "Scraping https://learnenglish.britishcouncil.org//grammar/a1-a2-grammar/comparative-adjectives...\n",
      "Scraping https://learnenglish.britishcouncil.org//grammar/a1-a2-grammar/quantifiers-few-a-few-little-a-bit...\n",
      "Scraping https://learnenglish.britishcouncil.org//grammar/a1-a2-grammar/adjectives-ending-ed-ing...\n",
      "Scraping https://learnenglish.britishcouncil.org//grammar/a1-a2-grammar/infinitive-purpose...\n",
      "Scraping https://learnenglish.britishcouncil.org//grammar/a1-a2-grammar/adjectives-prepositions...\n",
      "Scraping https://learnenglish.britishcouncil.org//grammar/a1-a2-grammar/present-simple-have-got...\n",
      "Scraping https://learnenglish.britishcouncil.org//grammar/a1-a2-grammar/question-forms...\n",
      "Scraping https://learnenglish.britishcouncil.org//grammar/a1-a2-grammar/articles-a-an-the...\n",
      "Scraping https://learnenglish.britishcouncil.org//grammar/b1-b2-grammar/present-perfect-just-yet-still-already...\n",
      "Scraping https://learnenglish.britishcouncil.org//grammar/b1-b2-grammar/capital-letters-apostrophes...\n",
      "Scraping https://learnenglish.britishcouncil.org//grammar/b1-b2-grammar/present-perfect...\n",
      "Scraping https://learnenglish.britishcouncil.org//grammar/b1-b2-grammar/past-perfect...\n",
      "Scraping https://learnenglish.britishcouncil.org//grammar/b1-b2-grammar/reflexive-pronouns...\n",
      "Scraping https://learnenglish.britishcouncil.org//grammar/b1-b2-grammar/modifying-comparatives...\n",
      "Scraping https://learnenglish.britishcouncil.org//grammar/b1-b2-grammar/using-enough...\n",
      "Scraping https://learnenglish.britishcouncil.org//grammar/b1-b2-grammar/modals-deductions-about-past...\n",
      "Scraping https://learnenglish.britishcouncil.org//grammar/b1-b2-grammar/reported-speech-reporting-verbs...\n",
      "Scraping https://learnenglish.britishcouncil.org//grammar/b1-b2-grammar/adjectives-gradable-non-gradable...\n",
      "Scraping https://learnenglish.britishcouncil.org//grammar/b1-b2-grammar/past-ability...\n",
      "Scraping https://learnenglish.britishcouncil.org//grammar/b1-b2-grammar/future-forms-will-be-going-present-continuous...\n",
      "Scraping https://learnenglish.britishcouncil.org//grammar/b1-b2-grammar/reported-speech-statements...\n",
      "Scraping https://learnenglish.britishcouncil.org//grammar/b1-b2-grammar/future-degrees-certainty...\n",
      "Scraping https://learnenglish.britishcouncil.org//grammar/b1-b2-grammar/passives...\n",
      "Scraping https://learnenglish.britishcouncil.org//grammar/b1-b2-grammar/reported-speech-questions...\n",
      "Scraping https://learnenglish.britishcouncil.org//grammar/b1-b2-grammar/relative-clauses-non-defining-relative-clauses...\n",
      "Scraping https://learnenglish.britishcouncil.org//grammar/b1-b2-grammar/contrasting-ideas-although-despite-others...\n",
      "Scraping https://learnenglish.britishcouncil.org//grammar/b1-b2-grammar/conditionals-zero-first-second...\n",
      "Scraping https://learnenglish.britishcouncil.org//grammar/b1-b2-grammar/past-habits-used-to-would-past-simple...\n",
      "Scraping https://learnenglish.britishcouncil.org//grammar/b1-b2-grammar/future-continuous-future-perfect...\n",
      "Scraping https://learnenglish.britishcouncil.org//grammar/b1-b2-grammar/modals-deductions-about-present...\n",
      "Scraping https://learnenglish.britishcouncil.org//grammar/b1-b2-grammar/verbs-prepositions...\n",
      "Scraping https://learnenglish.britishcouncil.org//grammar/b1-b2-grammar/using-as-like...\n",
      "Scraping https://learnenglish.britishcouncil.org//grammar/b1-b2-grammar/stative-verbs...\n",
      "Scraping https://learnenglish.britishcouncil.org//grammar/b1-b2-grammar/phrasal-verbs...\n",
      "Scraping https://learnenglish.britishcouncil.org//grammar/b1-b2-grammar/different-uses-of-used-to...\n",
      "Scraping https://learnenglish.britishcouncil.org//grammar/b1-b2-grammar/present-perfect-simple-continuous...\n",
      "Scraping https://learnenglish.britishcouncil.org//grammar/b1-b2-grammar/modals-permission-obligation...\n",
      "Scraping https://learnenglish.britishcouncil.org//grammar/b1-b2-grammar/intensifiers-so-such...\n",
      "Scraping https://learnenglish.britishcouncil.org//grammar/b1-b2-grammar/conditionals-third-mixed...\n",
      "Scraping https://learnenglish.britishcouncil.org//grammar/b1-b2-grammar/british-english-american-english...\n",
      "Scraping https://learnenglish.britishcouncil.org//grammar/b1-b2-grammar/relative-clauses-defining-relative-clauses...\n",
      "Scraping https://learnenglish.britishcouncil.org//grammar/b1-b2-grammar/question-tags...\n",
      "Scraping https://learnenglish.britishcouncil.org//grammar/b1-b2-grammar/wishes-wish-if-only...\n",
      "Scraping https://learnenglish.britishcouncil.org//grammar/b1-b2-grammar/verbs-followed-ing-or-infinitive-change-meaning...\n",
      "Scraping https://learnenglish.britishcouncil.org//grammar/c1-grammar/word-order-phrasal-verbs...\n",
      "Scraping https://learnenglish.britishcouncil.org//grammar/c1-grammar/modals-probability...\n",
      "Scraping https://learnenglish.britishcouncil.org//grammar/c1-grammar/ellipsis...\n",
      "Scraping https://learnenglish.britishcouncil.org//grammar/c1-grammar/avoiding-repetition-text...\n",
      "Scraping https://learnenglish.britishcouncil.org//grammar/c1-grammar/inversion-conditionals...\n",
      "Scraping https://learnenglish.britishcouncil.org//grammar/c1-grammar/unreal-time...\n",
      "Scraping https://learnenglish.britishcouncil.org//grammar/c1-grammar/inversion-after-negative-adverbials...\n",
      "Scraping https://learnenglish.britishcouncil.org//grammar/c1-grammar/emphasis-cleft-sentences-inversion-auxiliaries...\n",
      "Scraping https://learnenglish.britishcouncil.org//grammar/c1-grammar/possession-noun-modifiers...\n",
      "Scraping https://learnenglish.britishcouncil.org//grammar/c1-grammar/participle-clauses...\n",
      "Scraping https://learnenglish.britishcouncil.org//grammar/c1-grammar/patterns-reporting-verbs...\n"
     ]
    }
   ],
   "source": [
    "page_texts = {}\n",
    "for grammar_page in a1_a2_grammar_pages + b1_b2_grammar_pages + c1_grammar_pages:\n",
    "\n",
    "    # URL of the page to be scraped\n",
    "    url = f\"https://learnenglish.britishcouncil.org/{grammar_page}\"\n",
    "    print(f\"Scraping {url}...\")\n",
    "\n",
    "    # Make a request to the website\n",
    "    response = requests.get(url)\n",
    "\n",
    "    # If the request was successful (status code 200)\n",
    "    if response.status_code == 200:\n",
    "        # Parse the page content with BeautifulSoup\n",
    "        soup = BeautifulSoup(response.content, 'html.parser')\n",
    "        \n",
    "        # Extract all text by navigating through all text nodes\n",
    "        texts = [extract_text_from_element(element) for element in soup.find_all(True) if element.string]\n",
    "        \n",
    "        # Joining and printing the extracted texts\n",
    "        page_text = ' '.join(texts)\n",
    "\n",
    "        # avoid some junk at the end of the page\n",
    "        page_text = page_text.split('Language level')[0]\n",
    "        \n",
    "        page_texts[grammar_page] = page_text\n",
    "\n",
    "    else:\n",
    "        print(\"Failed to retrieve the webpage.\")"
   ]
  },
  {
   "cell_type": "code",
   "execution_count": 47,
   "metadata": {},
   "outputs": [],
   "source": [
    "# Save these locally\n",
    "for grammar, page_text in page_texts.items():\n",
    "\n",
    "    filename = grammar.split('/')[-1]\n",
    "    filepath = f\"resources/{filename}.txt\"\n",
    "\n",
    "    with open(filepath, 'w') as f:\n",
    "        f.write(page_text)\n"
   ]
  },
  {
   "cell_type": "markdown",
   "metadata": {},
   "source": [
    "# Summarise each page text, and write to a prompt file"
   ]
  },
  {
   "cell_type": "code",
   "execution_count": 45,
   "metadata": {},
   "outputs": [],
   "source": [
    "from dotenv import load_dotenv, find_dotenv\n",
    "_ = load_dotenv(find_dotenv()) # read local .env file\n",
    "\n",
    "openai.api_key  = os.getenv('OPENAI_API_KEY')\n",
    "\n",
    "def get_completion(prompt, model=\"gpt-4\"): \n",
    "    messages = [{\"role\": \"user\", \"content\": prompt}]\n",
    "    response = openai.ChatCompletion.create(\n",
    "        model=model,\n",
    "        messages=messages,\n",
    "        temperature=0,\n",
    "    )\n",
    "    return response.choices[0].message[\"content\"]"
   ]
  },
  {
   "cell_type": "code",
   "execution_count": 46,
   "metadata": {},
   "outputs": [
    {
     "name": "stdout",
     "output_type": "stream",
     "text": [
      "Help the student understand the use of articles in English, specifically 'the' or no article. Explain that we commonly use articles in phrases and place names. For instance, we use 'the' before school, prison, and hospital. However, we don't normally use an article for continents, most countries, cities, towns, lakes, mountains, or universities. For example, we say 'University of Cape Town', 'University of Delhi', 'University of Tokyo' without an article before 'University'. Reinforce this understanding through grammar exercises.\n",
      "Help the student understand the use of past continuous and past simple tenses in English. The past continuous tense shows an action that was already in progress at a certain time in the past, and can also indicate that an activity was in progress for some time. The past simple tense is used to show an action that happened in the middle of the past continuous action, while it was in progress. When used together, these tenses can show an action interrupting another action. For example, \"While I was studying, I suddenly felt sleepy.\"\n",
      "Help the student understand the difference between countable and uncountable nouns in English. Countable nouns are individual objects that we can count with numbers such as 'an apple', 'two apples', 'three apples'. They can be used with 'a', 'an', 'some', 'any', and questions can be formed with 'how many'. Uncountable nouns, on the other hand, are substances or concepts we cannot count, like 'bread', 'rice', 'coffee', 'information', 'money', 'advice', 'luggage', 'furniture'. They can be used with 'some', 'any', and questions can be formed with 'how much'. Other expressions of quantity like 'a lot of', 'lots of', 'many', 'much', 'not many', 'not much' can also be used with both types of nouns.\n",
      "Help the student understand the use of prepositions of time: 'at', 'in', and 'on'. 'At' is used for specific times, such as 'at 5 o'clock', and for mealtimes, breaks, and certain time phrases like 'at night', 'at weekends', 'at Christmas'. 'In' is used for parts of the day, like 'in the morning', months, seasons, years, centuries, and decades. 'On' is used for specific days and dates, such as 'on Monday' or 'on 19 October'. Practice with examples and exercises to reinforce these rules.\n",
      "Help the student understand that in English, certain verbs are followed by '-ing' forms, while others are followed by 'to' + infinitive. For instance, verbs like 'enjoy', 'admit', 'mind', 'avoid', 'can't help', 'consider', 'dislike', 'feel like', 'finish', 'give up', 'miss', 'practise', and 'suggest' are followed by '-ing'. On the other hand, verbs like 'want', 'offer', 'afford', 'agree', 'ask', 'choose', 'decide', 'expect', 'hope', 'plan', 'prepare', 'promise', 'refuse', and 'would like' are followed by 'to' + infinitive. Provide exercises to practice this grammar point.\n",
      "Help the student understand the use of 'there is' and 'there are' in English. 'There is' is used for singular nouns, while 'there are' is used for plural nouns. For example, 'There is a bridge in the park' or 'There are two cafés in the shopping centre'. The negative forms are 'there isn't' and 'there aren't'. For example, 'There isn't a pharmacy near the hotel' or 'There aren't any restaurants near the hotel'. Questions are formed with 'Is there' or 'Are there'. For example, 'Is there a café near here?' or 'Are there any toilets in the park?'.\n",
      "Help the student understand the use of the present simple tense in English. This tense is used to talk about things we do regularly, such as habits or routines (e.g., \"I drink coffee at work\"). It is also used for things which are generally true (e.g., \"She loves to work at home now\"). The present simple tense can be used in affirmative, negative, and question forms. For example, \"Do you watch a lot of films?\" or \"He doesn't have a lot of free time\". Short answers can also be given using the present simple tense, such as \"Yes, I do\" or \"No, she doesn't\".\n",
      "Help the student understand the present simple form of the verb 'to be'. In the affirmative form, use 'I am', 'You/we/they are', and 'He/she/it is'. In the negative form, use 'I am not', 'You/we/they are not', and 'He/she/it is not'. Questions are formed by inverting the subject and verb, as in 'Am I?', 'Are you/we/they?', and 'Is he/she/it?'. Contractions are commonly used in spoken English, such as 'I'm', 'You're', 'He's', 'We're', 'They're', 'I'm not', 'She's not', 'We aren't', and 'They aren't'. Short answers to questions can also be contracted.\n",
      "Help the student understand the use of prepositions of place, specifically 'in', 'on', and 'at'. These prepositions are used to indicate the location of something. The text does not provide specific examples or rules for their usage, but typically 'in' is used for enclosed spaces, 'on' for surfaces, and 'at' for specific points. You can create exercises that allow students to practice using these prepositions in various contexts, helping them to understand the nuances of their usage.\n",
      "Help the student understand the use of possessive 's in English. This grammatical feature is used to indicate that something belongs to someone. It's possible to use more than one possessive in a phrase. However, it's important to note that an 's' at the end of a word without an apostrophe doesn't show possession, but rather makes the word plural. This distinction is crucial in understanding and correctly using the possessive 's in English.\n",
      "Help the student understand that comparative adjectives are used to compare two things or show change. The form of the comparative adjective depends on the number of syllables in the adjective. For adjectives with one syllable, we add \"-er\" to the end (e.g., old becomes older). If the adjective ends in a vowel and a consonant, we usually double the consonant before adding \"-er\" (e.g., big becomes bigger). For adjectives with two or more syllables, we add \"more\" before the adjective (e.g., crowded becomes more crowded). There are also irregular adjectives like good, bad, and far, which become better, worse, and further/farther respectively. The word \"than\" is often used after the comparative adjective.\n",
      "Help the student understand the use of quantifiers 'few', 'a few', 'little', and 'a bit of' in English. These quantifiers are used differently with countable and uncountable nouns. 'A few' and 'few' are used with countable nouns, while 'a bit of' and 'very little' are used with uncountable nouns. The difference between 'few' and 'a few', and 'little' and 'a bit of' is also important to note. 'Few' and 'little' often imply a negative connotation (not enough), while 'a few' and 'a bit of' have a more positive or neutral connotation (some, but not a lot).\n",
      "Help the student understand the difference between adjectives ending in '-ed' and '-ing'. Explain that '-ed' adjectives describe emotions and feelings, and are used to express how people feel. For example, 'bored', 'interested', 'annoyed', 'confused', 'disappointed', 'excited', 'frightened', 'surprised', 'tired', and 'worried'. On the other hand, '-ing' adjectives describe the things or situations that cause the emotions. For instance, 'boring', 'interesting', 'annoying', 'confusing', 'disappointing', 'exciting', 'frightening', 'surprising', 'tiring', and 'worrying'. Encourage them to practice using these adjectives in sentences to solidify their understanding.\n",
      "Help the student understand the concept of the infinitive of purpose in English grammar. This is used to explain why something is done. For example, the word 'to' followed by a verb can be used to express the purpose of an action. In the sentence \"I study to improve my English\", 'to improve' is an infinitive of purpose. It explains why the action 'I study' is performed. Encourage the students to practice using infinitives of purpose in their own sentences and provide exercises for them to test their understanding.\n",
      "Help the student understand that certain adjectives in English are typically used with specific prepositions. There are no set grammatical rules for which preposition is used with which adjective, so it's beneficial to learn them together. For instance, adjectives like 'interested', 'similar', 'brilliant', 'angry', 'good', 'bad', 'amazing', 'terrible', 'excited', 'happy', 'nervous', 'sad', 'stressed', 'worried', 'afraid', 'frightened', 'scared', 'proud', 'married', 'addicted', 'allergic', 'friendly', 'nice', 'polite', 'rude', 'famous', 'responsible', 'experienced', and 'involved' are often used with prepositions such as 'in', 'to', 'at', 'about', 'of', and 'for'. Encourage students to practice using these combinations in sentences or phrases.\n",
      "Help the student understand the usage of 'have got' in present simple tense. Explain that 'have got' is used in the affirmative, negative, and question forms. For example, in the affirmative, 'I've got a big family.' In the negative, 'We haven't got a garden.' In questions, 'Have you got any pets?' Also, teach them the short answers like 'Yes, I have.' or 'No, I haven't.' Make sure they understand the difference in usage between 'I/you/we/they' and 'he/she/it'. Finally, introduce the past tense form 'had got', as in 'I had got a red bike when I was young.'\n",
      "Help the student understand that in English, questions are often formed by placing the verb before the subject, a process known as inversion. For example, \"I am\" becomes \"Am I\". This rule applies to verbs such as \"be\", \"can\", \"will\", \"should\", and \"might\". In the present simple and past simple tenses, \"do\", \"does\", and \"did\" are used to form questions. For instance, \"You work at home\" becomes \"Do you work at home?\". Subject questions often start with \"who\" or \"what\", such as \"Who broke the window?\".\n",
      "Help the student understand the use of articles 'a', 'an', and 'the' in English. Explain that these articles are used before singular nouns. For instance, 'a' and 'an' are used when the noun is not specific, while 'the' is used for specific nouns. When talking about things in general, usually a plural or uncountable noun with no article is used. However, when referring to particular groups of things, 'the' is used. For example, \"We went to the zoo and saw the kangaroos.\" Provide exercises for practice to reinforce these concepts.\n",
      "Help the student understand the usage of 'just', 'yet', 'still' and 'already' in the present perfect tense. 'Just' is used to express something that happened a short time ago, 'yet' is used in negative sentences and questions to talk about things that we expect to happen but which have not happened yet, 'still' is used to show that something hasn't changed or stopped happening, and 'already' is used to show that something has happened sooner than it was expected to happen. Provide exercises to test their understanding of these adverbs in different contexts.\n",
      "Help the student understand the correct usage of capital letters and apostrophes in English. Capital letters are used for days of the week, months, festivals, names of people and places, languages, nationalities, adjectives referring to people or things from a specific place, religions, titles, and names of institutions. When a person's job title precedes their name, both should be capitalized. Apostrophes are used to show contractions or possession. In contractions, they indicate missing letters. For possession, 's is used after the possessor's name, regardless of whether it's singular or plural.\n",
      "Help the student understand the use of the present perfect tense in English. This tense is used to describe actions that have happened at an unspecified time before now, or that started in the past and continue to the present. It is formed with 'have/has' and the past participle of the verb. The present perfect can express unfinished time and states, past actions with a result in the present, and experiences or changes over time. It can also be used with time expressions like 'ever', 'never', 'for', 'since', 'just', 'recently', 'already', 'yet', and 'still'.\n",
      "Help the student understand the use of the past perfect tense in English. This tense is used to show the order of two past events, with the past perfect indicating the earlier action and the past simple indicating the later action. For example, in the sentence \"The thief had escaped\", the past perfect tense is used to show that the escape happened before some other past event. However, if there's only a single event, the past perfect is not used, even if it happened a long time ago. Adverbs like 'already', 'still', 'just', 'ever', and 'never' can be used with the past perfect tense.\n",
      "Help the student understand that reflexive pronouns are used when the subject and the object of a verb are the same. The reflexive pronouns in English are myself, yourself, himself, herself, itself, ourselves, yourselves, and themselves. For example, in the sentence \"I cut myself when I was making dinner last night\", 'I' is the subject and 'myself' is the reflexive pronoun used as the object. Reflexive pronouns can also be used for emphasis, especially when it's unusual or different, or to emphasize that someone does it personally. They can also be used together with the noun they refer to for emphasis.\n",
      "Help the student understand that in English, there are several ways to modify comparisons to show big or small differences. Comparative adjectives are used to compare different things, using phrases like 'as … as', 'not as … as', 'different from', 'similar to', and 'the same as'. To show big differences, phrases like 'much', 'so much', 'a lot', 'even', 'far', 'nowhere near as … as', and 'completely different from' are used. Small differences can be shown using 'slightly', 'a little', 'a bit', 'almost', 'nearly', 'not quite', 'roughly', 'more or less', 'about as … as', 'the same as', and 'very similar to'. To show no difference, 'exactly the same as' and 'just as … as' are used.\n",
      "Help the student understand the use of 'enough' in English grammar. 'Enough' can be used with adjectives, adverbs, verbs, and nouns. When used with an adjective and a noun, the order is 'adjective + enough + noun' (e.g., big enough envelopes) or 'enough + adjective + noun' (e.g., enough big envelopes). 'Enough' can also be used as a pronoun when the noun is understood from the context. Additionally, 'enough of' can be used with 'a', 'an', 'the', 'this', 'that', 'my', 'your', 'his', 'you', and 'them'.\n",
      "Help the student understand that modal verbs can be used for deduction, which is guessing if something is true based on available information. The choice of modal verb indicates how certain we are about the possibility. This exercise focuses on making deductions about the past. The modal verbs used for this purpose include \"must have\", \"might have\", \"may have\", \"could have\", \"can't have\", and \"couldn't have\". Each of these modal verbs conveys a different level of certainty about a past event.\n",
      "Help the student understand the concept of reported speech and the use of reporting verbs. Explain that reporting verbs are used to tell someone what another person said. For instance, 'she persuaded me to come' is an example of reported speech where 'persuaded' is the reporting verb. Other examples of reporting verbs include 'tell', 'ask', 'advise', 'agree', 'challenge', 'claim', 'decide', 'demand', 'encourage', 'invite', 'offer', 'promise', 'refuse', 'remind', 'order', 'instruct', 'direct', 'warn', 'admit', 'apologise for', 'complain about', 'deny', 'insist on', 'mention', and 'suggest'. These verbs can be followed by an infinitive or -ing form depending on the context.\n",
      "Help the student understand the difference between gradable and non-gradable adjectives in English. Gradable adjectives can be modified to express different degrees of a quality, for example, 'a bit cold', 'very cold', 'extremely cold'. Some common modifiers for gradable adjectives include 'a little/a bit', 'pretty/quite', 'really/very', and 'extremely'. Non-gradable adjectives, on the other hand, cannot be modified to express different degrees. They are either absolute, like 'dead' or 'finished', or extreme, like 'amazing' or 'awful'. Modifiers for non-gradable adjectives include 'absolutely/totally/completely' and 'really'.\n",
      "Help the student understand the concept of expressing past ability in English. Teach them that 'could' and 'couldn't' are used to express general ability in the past. For successful abilities on one occasion, use 'was/were able to', 'had the ability to', 'managed to', or 'succeeded in doing something difficult'. For unsuccessful abilities on one occasion, use 'wasn't/weren't able to', 'didn't manage to', or 'couldn't'. Reinforce these concepts with exercises to test their understanding.\n",
      "Help the student understand the different future forms in English: 'will', 'be going to', and present continuous. 'Will' is used for spontaneous plans, such as \"I'll do it after dinner.\" 'Be going to' is used for pre-decided plans, for example, \"I'm going to phone Mum after dinner.\" The present continuous is used for arrangements that are already confirmed with at least one other person and when the time and place are known, such as \"I'm meeting Jane at 8 o'clock on Saturday.\" These forms help to express different types of future plans and arrangements.\n",
      "Help the student understand the concept of reported speech, which is when we tell someone what another person said. This can be done using direct or indirect speech. In indirect speech, present simple changes to past simple, present continuous to past continuous, and present perfect to past perfect. Past simple usually changes to past perfect simple, and past continuous to past perfect continuous. However, if what the speaker has said is still true or relevant, it's not always necessary to change the tense. Pronouns, demonstratives, and adverbs of time and place also usually change in indirect speech.\n",
      "Help the student understand that expressing different degrees of certainty about the future in English can be achieved using modal verbs and other expressions. For instance, \"will definitely\" and \"definitely won't\" are used when one is very sure about something. \"Will\" and \"won't\" are used when one is sure. \"Probably\" and \"probably won't\" are used when one is almost sure. \"Might\", \"may\", \"could\", \"may not\", and \"could not\" are used when one is not sure. Other expressions like \"be bound to\", \"be likely to\", \"think\", and \"doubt\" can also be used to express varying degrees of certainty.\n",
      "Help the student understand that the passive voice is used to change the focus of a sentence. It is often used when the doer of the action is unknown, obvious, or not important, or when the most important or logical information should start the sentence. The passive voice is also common in formal or scientific writing. The structure of the passive voice is: Object + be + past participle. The verb 'be' changes according to the tense of the sentence. For example, in the present simple tense, we use 'is/are', in the past simple 'was/were', in the present perfect 'has/have been', and in the future simple 'will be'.\n",
      "Help the student understand that reported speech is used to tell someone what another person asked. This can be done using direct or indirect speech. For example, 'Do you work from home?' can be reported as 'He asked me if I worked from home.' The word 'if' or 'whether' is often used to introduce reported yes-no questions, while question words (what, where, why, who, when, how) are used in reported information questions. Reporting verbs such as 'ask', 'enquire', 'want to know', and 'wonder' can be used. Offers, requests, and suggestions can also be reported, for example, 'Would you like me to help you?' can be reported as 'He offered to help me.'\n",
      "Help the student understand that non-defining relative clauses provide extra information about the person or thing mentioned. These clauses are used to give additional details that are not essential to the meaning of the sentence. They are introduced by relative pronouns such as 'who', 'which', 'whose', 'when', 'where', and 'that'. For example, in the sentence \"Jack, who's retired now, spends a lot of time with his grandchildren\", the clause \"who's retired now\" is a non-defining relative clause providing extra information about Jack.\n",
      "Help the student understand the use of contrasting ideas in English grammar, specifically the use of 'although', 'despite', 'even though', 'in spite of', and 'though'. These words and phrases are used to express contrast between two ideas. 'Although' and 'even though' are interchangeable and are followed by a subject and a verb. 'In spite of' and 'despite' are also interchangeable and are followed by a noun, pronoun, or an '-ing' form. 'Though' can be used at the end of a sentence to add a contrasting comment. Provide examples and exercises for practice.\n",
      "Help the student understand the use of zero, first, and second conditionals in English. The zero conditional is used to talk about things that are generally true, especially for laws and rules. The first conditional is used when discussing future situations that are believed to be real or possible. The second conditional is used to imagine present or future situations that are impossible or unlikely in reality. Each conditional has specific trigger words, such as 'if', 'when', 'unless', 'as long as', 'as soon as', 'in case', 'would', and 'were'.\n",
      "Help the student understand the use of 'used to', 'would' and the past simple in expressing past habits. 'Used to' is used to talk about things in the past that are no longer true, for example, \"I used to live in New York when I was a kid.\" 'Would' is used to describe repeated actions in the past, such as \"Every Saturday I would go on a long bike ride.\" The past simple is used to describe actions that happened only once in the past, like \"I went to Egypt in 2014.\"\n",
      "Help the student understand the use of future continuous and future perfect tenses in English. The future continuous tense, formed with 'will/won't be' plus the verb in '-ing' form, is used to describe actions that will be in progress at a specific time in the future. The future perfect tense, formed with 'will/won't have' plus the past participle of the verb, is used to indicate that an action will be completed by a certain time in the future. Use examples and exercises to reinforce these concepts.\n",
      "Help the student understand that modal verbs can be used for deduction, which is guessing if something is true based on the available information. The choice of modal verb indicates the level of certainty about the possibility. This concept is applicable when making deductions about the present or future. The modal verbs used for this purpose include 'must', 'might', 'may', 'could', and 'can't'. Each of these verbs conveys a different degree of certainty. Provide exercises for the students to practice using these modal verbs in the correct context.\n",
      "Help the student understand that in English, verbs are often followed by specific prepositions, forming a combination that must be learned together as there are no grammatical rules to guide this pairing. For instance, 'agree with', 'listens to', and 'thanked for' are examples of verb-preposition pairs. Encourage students to note down new vocabulary in sentences or phrases to better remember these combinations. Some common prepositions used after verbs include 'for', 'from', 'in', 'of', 'on', 'to', and 'with', each having a set of verbs they commonly pair with.\n",
      "Help the student understand the use of 'as' and 'like' in English. 'As' is used in comparisons, with structures such as 'as + adjective + as' and 'as much as'. It can also be used to indicate similarity ('Your phone is the same as mine'), to give examples ('such as'), and to talk about a job or function. 'As' can also connect two phrases, where it can mean 'because', 'while' or 'during the time that', and 'in the way that'. 'Like' is used before a noun to make comparisons, and can also be used in the phrases 'as if' and 'as though'.\n",
      "Help the student understand that stative verbs describe a state rather than an action. They are not usually used in the present continuous form. Examples of stative verbs include: agree, believe, doubt, guess, imagine, know, mean, recognise, remember, suspect, think, understand, dislike, hate, like, love, prefer, want, wish, appear, be, feel, hear, look, see, seem, smell, taste, belong, have, measure, own, possess, and weigh. Some verbs can refer to states or actions, depending on the context. For instance, 'have' can be used to express possession (I have an old car) or an action in progress (I'm having a quick break).\n",
      "Help the student understand that phrasal verbs are common in English, particularly in informal contexts. They consist of a verb and a particle, or sometimes two particles, which often changes the meaning of the verb. There are two types of phrasal verbs: separable and inseparable. Separable phrasal verbs can be split by their object, but must be separated when using a personal pronoun. Inseparable phrasal verbs cannot be split, even when using a personal pronoun. Some phrasal verbs with two particles are also inseparable, with the personal pronoun placed after the particles.\n",
      "Help the student understand the different uses of 'used to'. Teach them that 'used to' can be followed by an infinitive to talk about past habits or states. For example, 'I used to drive on the left'. Also, explain that 'be used to' and 'get used to' can be followed by '-ing' to express being accustomed to something or becoming accustomed to something. For instance, 'I'm used to driving on the left' or 'I'm getting used to driving on the left'.\n",
      "Help the student understand the difference between the present perfect simple and present perfect continuous. The present perfect simple usually focuses on the result of an activity, while the present perfect continuous focuses on the activity itself. For example, \"We've painted the bathroom\" (simple) versus \"We've been painting the room\" (continuous). The simple form often describes a completed action and can indicate 'how many', while the continuous form describes an ongoing activity and can indicate 'how long'. The continuous form can also emphasize that a situation is temporary.\n",
      "Help the student understand the use of modal verbs in expressing permission and obligation in English. Teach them that 'can', 'could', and 'may' are used to grant permission, while 'can't' and 'mustn't' are used to express prohibition. Explain that 'have to' and 'must' are used to express obligation, often referred to as 'external obligation'. Make sure they understand that 'must' is also used to express personal obligation. Finally, teach them that 'don't have to' is used to express lack of obligation. Use examples and exercises to reinforce these concepts.\n",
      "Help the student understand the use of intensifiers 'so' and 'such' in English grammar. Explain that 'so' is used with adjectives and adverbs, and can also be used to express a result with 'so that'. On the other hand, 'such' is used with nouns. Also, clarify that 'so' and 'such' can be used with 'much', 'many', 'little', and 'few' to intensify the meaning. Provide exercises for the students to practice the use of these intensifiers in different contexts.\n",
      "Help the student understand the use of third and mixed conditionals in English. Third conditionals are used to imagine a different past and the result of that change. For example, \"If I hadn't been ill, I would have gone to the party.\" Mixed conditionals are used when we imagine a past change with a result in the present or a present change with a result in the past. For instance, \"If I hadn't got the job in Tokyo, I wouldn't be with my current partner\" or \"If it wasn't important, I wouldn't have called you on your holiday.\"\n",
      "Help the student understand the main differences between British English and American English. These differences are primarily in pronunciation, vocabulary, and grammar. For instance, in British English, the present perfect tense is used to talk about a past action that is relevant to the present, while American English might use the past simple. The use of collective nouns also differs; British English can use either a singular or plural verb with a collective noun, depending on whether the group is considered as individuals or a single unit, while American English typically uses a singular verb. Vocabulary differences include words like \"got\" in British English versus \"gotten\" in American English.\n",
      "Help the student understand that defining relative clauses provide essential information about the person or thing mentioned. These clauses often use relative pronouns such as 'who', 'which', 'that', 'when', 'where', and 'whose'. However, the relative pronoun can sometimes be omitted, particularly when it is followed by a verb. Use examples and interactive exercises to reinforce this concept and allow students to practice identifying and using defining relative clauses correctly.\n",
      "Help the student understand that question tags are often used when we expect the listener to agree with our statement. If the statement is positive, we use a negative question tag and vice versa. The intonation of the question tag can vary depending on how sure we are that the listener will confirm our statement. If there is an auxiliary verb in the statement, we use it to form the question tag. If there is no auxiliary verb, we use 'do' or 'does'. If the verb in the statement is a modal verb, we use the modal verb to make the question tag.\n",
      "Help the student understand the use of 'wish' and 'if only' in English grammar. These expressions are used to express wishes about the present or the past. They can also be used to express annoyance. For instance, 'wish' and 'if only' can be used in the present to express a desire for a situation to be different, and in the past to express regret or dissatisfaction about a situation. 'Wish' can also be used with 'would' to express annoyance.\n",
      "Help the student understand that the meaning of certain verbs can change depending on whether they are followed by '-ing' or an infinitive. For instance, 'stop doing something' and 'stop to do something' have different implications. Similarly, 'try doing something' and 'try to do something' can convey different meanings. The same applies to 'remember doing something' versus 'remember to do something' and 'forget doing something' versus 'forget to do something'. Encourage students to practice these patterns with various verbs to grasp the nuances in meaning.\n",
      "Help the student understand that phrasal verbs in English are made of a verb plus one or two particles and can be either separable or inseparable. Separable phrasal verbs are transitive and can take a direct object, which can be placed between the verb and particle or after the particle. However, in spoken English, separation is preferred when the speaker stresses the particle. If the object is long or structurally complex, the verb and particle are usually kept together. Non-separable phrasal verbs cannot be separated and if they have a preposition as a particle, the object must follow the preposition.\n",
      "Help the student understand the use of modal verbs and other expressions to indicate probability or certainty in English. Teach them that 'must' and 'be bound to' are used to express certainty, while 'can't' is used to express impossibility. Explain that 'should', 'shouldn't', 'might', 'may', 'could', and their negative forms are used to express degrees of uncertainty. Lastly, 'can' is used to express general possibility. Reinforce these concepts with interactive exercises and examples.\n",
      "Help the student understand the concept of ellipsis in English grammar. Ellipsis is the omission of words in a sentence when the meaning is clear without them. It is commonly used in informal conversation. Ellipsis can be used after linkers like 'and', 'but', 'or', and before words like 'after', 'because', 'when', 'while', and 'to'. It can also be used after auxiliaries and modals to avoid repeating part of a verb phrase. Sometimes, subject pronouns can be omitted when it's clear who or what is being referred to. Auxiliary verbs like 'be', 'have', 'do' can also be omitted.\n",
      "Help the student understand the importance of avoiding repetition in a text. Teach them the use of words like 'it', 'this', 'that', 'those', 'such', and 'do so' to refer back to something previously mentioned, thus avoiding unnecessary repetition. For example, 'it' can be used to refer to a previously mentioned situation or event, 'this' and 'these' can refer to a previously mentioned idea or situation, and 'that' and 'those' can refer to something mentioned earlier in the conversation. 'Such' can be used to refer to similar items or situations, and 'do so' can replace a previously mentioned action. Also, encourage the use of synonyms to avoid repetition and make the text more interesting.\n",
      "Help the student understand the concept of inversion in conditional sentences. There are three types of conditionals that can be formed using inversion: first, second, and third conditionals. The first conditional is used to talk about future situations that are considered possible. The second conditional is used to discuss situations that are considered unlikely or impossible. The third conditional is used to imagine a change in a past situation and how things would have been different as a result. Negative inverted conditionals can also be formed.\n",
      "Help the student understand the concept of 'unreal time' in English grammar. This refers to imagined, wished for, or unlikely situations. When discussing these situations, verb forms often shift backwards. For instance, present tense changes to past, and past tense changes to past perfect. This shift in tense indicates a distance from reality. Various phrases such as 'wish/if only', 'it's (high) time', 'as if/as though', and 'would rather' are used to express unreal time. When the subjects of two clauses are different, unreal tenses are often used. Provide exercises for practice to reinforce this concept.\n",
      "Help the student understand the concept of inversion after negative adverbials in English grammar. Inversion refers to reversing the normal subject-verb word order in a sentence, often used to add emphasis, especially in formal English. It is common in political speeches due to its persuasive and impressive effect. Teach them how to use inversion after negative adverbials like 'Not only', 'Barely', 'Only', 'Never', 'Rarely', 'Seldom', 'Hardly', 'Scarcely', 'No sooner', 'Only after', 'Only if/when', 'Only then', 'Only later', 'Under no circumstances', 'On no account', 'At no time', 'In no way', 'On no condition', 'Not until', and 'Little'.\n",
      "Help the student understand that English grammar can use different structures to add emphasis to a sentence or a part of it. Cleft sentences are used to emphasize a specific part of a sentence by using 'it' or 'what'. For example, \"It was you who invited me to the party yesterday.\" Inversion with negative adverbials is another method, which gives a more formal and impressive effect. For instance, \"Rarely have I read such an original story.\" Lastly, in spoken English, emphatic auxiliaries are often used to stress the auxiliary verb, such as \"I am coming!\" or \"I did like some of it.\"\n",
      "Help the student understand the concept of possession and noun modifiers in English. Teach them that possessives are used to indicate ownership, such as in \"Nelson Mandela's words\" or \"the dogs' blankets\". Explain that the possessive form can also be used with places or groups of people, time expressions, and the word 'life'. Additionally, teach them about noun modifiers, where the first noun acts as an adjective to modify the second noun, such as in \"film night\" or \"winter months\". Make sure they understand that noun modifiers can also indicate what something is made of or that one thing is part of something else.\n",
      "Help the student understand that participle clauses are used when the participle and the verb in the main clause have the same subject. They do not have a specific tense, which is indicated by the verb in the main clause. Present participle clauses have a similar meaning to active verbs, while past participle clauses usually have a passive meaning. Perfect participle clauses show that the action they describe was finished before the action in the main clause. Participle clauses can also be used after conjunctions and prepositions. They are mainly used in written texts, particularly in a literary, academic or journalistic style.\n",
      "Help the student understand the use of reporting verbs in English. Each reporting verb requires a different pattern after it, and more than one pattern is possible after some verbs. Some verbs are immediately followed by another verb in infinitive form, such as 'refuse to accept', 'promised not to share', 'agree', 'claim', 'demand', 'offer', 'promise', 'refuse', 'threaten'. Some verbs need an object between the reporting verb and the infinitive, like 'ordered the police to release', 'warns governments not to delay', 'advise', 'ask', 'encourage', 'invite', 'order', 'remind', 'tell', 'urge', 'warn'. Other verbs are followed by '-ing', '-ing', 'that', 'that', 'that', 'that'.\n"
     ]
    }
   ],
   "source": [
    "for grammar, page_text in page_texts.items():\n",
    "\n",
    "    prompt = f\"\"\"\n",
    "    I am teacher of English as a foreign language, and I am creating some exercises to help my students practice a particular aspect of English grammar.\\\n",
    "    The following text, delimited by backticks, contains some explanation of of this aspect of English works (as well as some irrelevant text from web scraping).\\\n",
    "    Summarize the relevant part of the text in the form of a single paragraph of around 100 words.\\\n",
    "    You should phrase the respose in the form of instructions to an English teacher, and begin with the words \"Help the student understand\":\n",
    "\n",
    "    ```{page_text}```\n",
    "\n",
    "    \"\"\"\n",
    "\n",
    "    # chat GPT summary\n",
    "    try:\n",
    "        response = get_completion(prompt)\n",
    "        print(response)\n",
    "    except:\n",
    "        print(f\"error with {grammar}\")\n",
    "        continue\n",
    "\n",
    "    # write the output to a file with the same name as the last part of the URL\n",
    "    output_filename = grammar.split(\"/\")[-1]\n",
    "    output_filepath = f\"server/grammar-prompts/{output_filename}.txt\"\n",
    "\n",
    "    with open(output_filepath, 'w') as f:\n",
    "        f.write(str(response))"
   ]
  },
  {
   "cell_type": "markdown",
   "metadata": {},
   "source": [
    "# Lookup between grammar and nice labels"
   ]
  },
  {
   "cell_type": "code",
   "execution_count": 92,
   "metadata": {},
   "outputs": [],
   "source": [
    "# lookup to match a grammar type to its group\n",
    "grammar_group_lookup = {}\n",
    "for page_ref in a1_a2_grammar_pages + b1_b2_grammar_pages + c1_grammar_pages:\n",
    "    parts = page_ref.split('/')\n",
    "    grammar_group = parts[2]\n",
    "    grammar_name = parts[3]\n",
    "\n",
    "    grammar_group_lookup[grammar_name] = grammar_group"
   ]
  },
  {
   "cell_type": "code",
   "execution_count": 100,
   "metadata": {},
   "outputs": [
    {
     "data": {
      "text/plain": [
       "{'articles-the-or-no-article': 'a1-a2-grammar',\n",
       " 'past-continuous-past-simple': 'a1-a2-grammar',\n",
       " 'nouns-countable-uncountable': 'a1-a2-grammar',\n",
       " 'prepositions-of-time-at-in-on': 'a1-a2-grammar',\n",
       " 'verbs-followed-ing-or-infinitive': 'a1-a2-grammar',\n",
       " 'using-there-there-are': 'a1-a2-grammar',\n",
       " 'present-simple': 'a1-a2-grammar',\n",
       " 'present-simple-be': 'a1-a2-grammar',\n",
       " 'prepositions-place': 'a1-a2-grammar',\n",
       " 'possessive-s': 'a1-a2-grammar',\n",
       " 'comparative-adjectives': 'a1-a2-grammar',\n",
       " 'quantifiers-few-a-few-little-a-bit': 'a1-a2-grammar',\n",
       " 'adjectives-ending-ed-ing': 'a1-a2-grammar',\n",
       " 'infinitive-purpose': 'a1-a2-grammar',\n",
       " 'adjectives-prepositions': 'a1-a2-grammar',\n",
       " 'present-simple-have-got': 'a1-a2-grammar',\n",
       " 'question-forms': 'a1-a2-grammar',\n",
       " 'articles-a-an-the': 'a1-a2-grammar',\n",
       " 'present-perfect-just-yet-still-already': 'b1-b2-grammar',\n",
       " 'capital-letters-apostrophes': 'b1-b2-grammar',\n",
       " 'present-perfect': 'b1-b2-grammar',\n",
       " 'past-perfect': 'b1-b2-grammar',\n",
       " 'reflexive-pronouns': 'b1-b2-grammar',\n",
       " 'modifying-comparatives': 'b1-b2-grammar',\n",
       " 'using-enough': 'b1-b2-grammar',\n",
       " 'modals-deductions-about-past': 'b1-b2-grammar',\n",
       " 'reported-speech-reporting-verbs': 'b1-b2-grammar',\n",
       " 'adjectives-gradable-non-gradable': 'b1-b2-grammar',\n",
       " 'past-ability': 'b1-b2-grammar',\n",
       " 'future-forms-will-be-going-present-continuous': 'b1-b2-grammar',\n",
       " 'reported-speech-statements': 'b1-b2-grammar',\n",
       " 'future-degrees-certainty': 'b1-b2-grammar',\n",
       " 'passives': 'b1-b2-grammar',\n",
       " 'reported-speech-questions': 'b1-b2-grammar',\n",
       " 'relative-clauses-non-defining-relative-clauses': 'b1-b2-grammar',\n",
       " 'contrasting-ideas-although-despite-others': 'b1-b2-grammar',\n",
       " 'conditionals-zero-first-second': 'b1-b2-grammar',\n",
       " 'past-habits-used-to-would-past-simple': 'b1-b2-grammar',\n",
       " 'future-continuous-future-perfect': 'b1-b2-grammar',\n",
       " 'modals-deductions-about-present': 'b1-b2-grammar',\n",
       " 'verbs-prepositions': 'b1-b2-grammar',\n",
       " 'using-as-like': 'b1-b2-grammar',\n",
       " 'stative-verbs': 'b1-b2-grammar',\n",
       " 'phrasal-verbs': 'b1-b2-grammar',\n",
       " 'different-uses-of-used-to': 'b1-b2-grammar',\n",
       " 'present-perfect-simple-continuous': 'b1-b2-grammar',\n",
       " 'modals-permission-obligation': 'b1-b2-grammar',\n",
       " 'intensifiers-so-such': 'b1-b2-grammar',\n",
       " 'conditionals-third-mixed': 'b1-b2-grammar',\n",
       " 'british-english-american-english': 'b1-b2-grammar',\n",
       " 'relative-clauses-defining-relative-clauses': 'b1-b2-grammar',\n",
       " 'question-tags': 'b1-b2-grammar',\n",
       " 'wishes-wish-if-only': 'b1-b2-grammar',\n",
       " 'verbs-followed-ing-or-infinitive-change-meaning': 'b1-b2-grammar',\n",
       " 'word-order-phrasal-verbs': 'c1-grammar',\n",
       " 'modals-probability': 'c1-grammar',\n",
       " 'ellipsis': 'c1-grammar',\n",
       " 'avoiding-repetition-text': 'c1-grammar',\n",
       " 'inversion-conditionals': 'c1-grammar',\n",
       " 'unreal-time': 'c1-grammar',\n",
       " 'inversion-after-negative-adverbials': 'c1-grammar',\n",
       " 'emphasis-cleft-sentences-inversion-auxiliaries': 'c1-grammar',\n",
       " 'possession-noun-modifiers': 'c1-grammar',\n",
       " 'participle-clauses': 'c1-grammar',\n",
       " 'patterns-reporting-verbs': 'c1-grammar'}"
      ]
     },
     "execution_count": 100,
     "metadata": {},
     "output_type": "execute_result"
    }
   ],
   "source": [
    "grammar_group_lookup"
   ]
  },
  {
   "cell_type": "code",
   "execution_count": 101,
   "metadata": {},
   "outputs": [],
   "source": [
    "# these will (via cut and paste...) become values and labels in a dropdown menu\n",
    "def extract_title_from_text(text):\n",
    "    pattern = r'function.*?{ }\\s*(.*?)\\s*\\|'\n",
    "    match = re.search(pattern, text)\n",
    "    if match:\n",
    "        return match.group(1)  \n",
    "    return None\n",
    "\n",
    "a1_a2_labels = []\n",
    "b1_b2_labels = []\n",
    "c1_labels = []\n",
    "for grammar, page_text in page_texts.items():\n",
    "    val = grammar.split('/')[-1] \n",
    "    lab = extract_title_from_text(page_text)\n",
    "    grammar_label = {\"value\": val, \"label\": lab}\n",
    "\n",
    "    grammar_group = grammar_group_lookup[val]\n",
    "    if grammar_group == 'a1-a2-grammar':\n",
    "        a1_a2_labels.append(grammar_label)\n",
    "    elif grammar_group == 'b1-b2-grammar':\n",
    "        b1_b2_labels.append(grammar_label)\n",
    "    elif grammar_group == 'c1-grammar':\n",
    "        c1_labels.append(grammar_label)\n",
    "    else:\n",
    "        raise ValueError(\"Unknown grammar group: \" + grammar_group)\n"
   ]
  },
  {
   "cell_type": "markdown",
   "metadata": {},
   "source": [
    "# Results \n",
    "\n",
    "Just cut and paste into the relevant part of `grammarOptions.js`"
   ]
  },
  {
   "cell_type": "code",
   "execution_count": 114,
   "metadata": {},
   "outputs": [
    {
     "name": "stdout",
     "output_type": "stream",
     "text": [
      "{'value': 'adjectives-prepositions', 'label': 'Adjectives and prepositions'},\n",
      "{'value': 'adjectives-ending-ed-ing', 'label': \"Adjectives ending in '-ed' and '-ing'\"},\n",
      "{'value': 'articles-a-an-the', 'label': \"Articles: 'a', 'an', 'the'\"},\n",
      "{'value': 'articles-the-or-no-article', 'label': \"Articles: 'the' or no article\"},\n",
      "{'value': 'comparative-adjectives', 'label': 'Comparative adjectives'},\n",
      "{'value': 'infinitive-purpose', 'label': 'Infinitive of purpose'},\n",
      "{'value': 'nouns-countable-uncountable', 'label': 'Nouns: countable and uncountable'},\n",
      "{'value': 'past-continuous-past-simple', 'label': 'Past continuous and past simple'},\n",
      "{'value': 'possessive-s', 'label': \"Possessive 's\"},\n",
      "{'value': 'prepositions-place', 'label': \"Prepositions of place – 'in', 'on', 'at'\"},\n",
      "{'value': 'prepositions-of-time-at-in-on', 'label': \"Prepositions of time: 'at', 'in', 'on'\"},\n",
      "{'value': 'present-simple', 'label': 'Present simple'},\n",
      "{'value': 'present-simple-have-got', 'label': \"Present simple: 'have got'\"},\n",
      "{'value': 'present-simple-be', 'label': \"Present simple: 'to be'\"},\n",
      "{'value': 'quantifiers-few-a-few-little-a-bit', 'label': \"Quantifiers: 'few', 'a few', 'little' and 'a bit of'\"},\n",
      "{'value': 'question-forms', 'label': 'Question forms'},\n",
      "{'value': 'using-there-there-are', 'label': \"Using 'there is' and 'there are'\"},\n",
      "{'value': 'verbs-followed-ing-or-infinitive', 'label': \"Verbs followed by '-ing' or infinitive\"},\n"
     ]
    }
   ],
   "source": [
    "for row in sorted(a1_a2_labels, key=lambda x: x['label']):\n",
    "    print(str(row) + \",\")"
   ]
  },
  {
   "cell_type": "code",
   "execution_count": 123,
   "metadata": {},
   "outputs": [
    {
     "name": "stdout",
     "output_type": "stream",
     "text": [
      "{'value': 'present-perfect-simple-continuous', 'label': 'Present perfect simple and continuous'},\n",
      "{'value': 'present-perfect-just-yet-still-already', 'label': \"Present perfect: 'just', 'yet', 'still' and 'already'\"},\n",
      "{'value': 'question-tags', 'label': 'Question tags'},\n",
      "{'value': 'reflexive-pronouns', 'label': 'Reflexive pronouns'},\n",
      "{'value': 'relative-clauses-defining-relative-clauses', 'label': 'Relative clauses: defining relative clauses'},\n",
      "{'value': 'relative-clauses-non-defining-relative-clauses', 'label': 'Relative clauses: non-defining relative clauses'},\n",
      "{'value': 'reported-speech-questions', 'label': 'Reported speech: questions'},\n",
      "{'value': 'reported-speech-reporting-verbs', 'label': 'Reported speech: reporting verbs'},\n",
      "{'value': 'reported-speech-statements', 'label': 'Reported speech: statements'},\n",
      "{'value': 'stative-verbs', 'label': 'Stative verbs'},\n",
      "{'value': 'future-degrees-certainty', 'label': 'The future: degrees of certainty'},\n",
      "{'value': 'using-as-like', 'label': \"Using 'as' and 'like'\"},\n",
      "{'value': 'using-enough', 'label': \"Using 'enough'\"},\n",
      "{'value': 'verbs-prepositions', 'label': 'Verbs and prepositions'},\n",
      "{'value': 'verbs-followed-ing-or-infinitive-change-meaning', 'label': \"Verbs followed by '-ing' or infinitive to change meaning\"},\n",
      "{'value': 'wishes-wish-if-only', 'label': \"Wishes: 'wish' and 'if only'\"},\n"
     ]
    }
   ],
   "source": [
    "for row in sorted(b1_b2_labels, key=lambda x: x['label'])[20:]:\n",
    "    print(str(row) + \",\")"
   ]
  },
  {
   "cell_type": "code",
   "execution_count": 118,
   "metadata": {},
   "outputs": [
    {
     "name": "stdout",
     "output_type": "stream",
     "text": [
      "{'value': 'avoiding-repetition-text', 'label': 'Avoiding repetition in a text'},\n",
      "{'value': 'ellipsis', 'label': 'Ellipsis'},\n",
      "{'value': 'emphasis-cleft-sentences-inversion-auxiliaries', 'label': 'Emphasis: cleft sentences, inversion and auxiliaries'},\n",
      "{'value': 'inversion-after-negative-adverbials', 'label': 'Inversion after negative adverbials'},\n",
      "{'value': 'inversion-conditionals', 'label': 'Inversion and conditionals'},\n",
      "{'value': 'modals-probability', 'label': 'Modals: probability'},\n",
      "{'value': 'participle-clauses', 'label': 'Participle clauses'},\n",
      "{'value': 'patterns-reporting-verbs', 'label': 'Patterns with reporting verbs'},\n",
      "{'value': 'possession-noun-modifiers', 'label': 'Possession and noun modifiers'},\n",
      "{'value': 'unreal-time', 'label': 'Unreal time'},\n",
      "{'value': 'word-order-phrasal-verbs', 'label': 'Word order in phrasal verbs'},\n"
     ]
    }
   ],
   "source": [
    "for row in sorted(c1_labels, key=lambda x: x['label']):\n",
    "    print(str(row) + \",\")"
   ]
  },
  {
   "cell_type": "code",
   "execution_count": null,
   "metadata": {},
   "outputs": [],
   "source": []
  }
 ],
 "metadata": {
  "kernelspec": {
   "display_name": "Python 3",
   "language": "python",
   "name": "python3"
  },
  "language_info": {
   "codemirror_mode": {
    "name": "ipython",
    "version": 3
   },
   "file_extension": ".py",
   "mimetype": "text/x-python",
   "name": "python",
   "nbconvert_exporter": "python",
   "pygments_lexer": "ipython3",
   "version": "3.8.10"
  },
  "orig_nbformat": 4
 },
 "nbformat": 4,
 "nbformat_minor": 2
}
